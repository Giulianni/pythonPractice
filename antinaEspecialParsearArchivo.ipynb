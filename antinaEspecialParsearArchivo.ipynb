{
 "cells": [
  {
   "cell_type": "code",
   "execution_count": 10,
   "metadata": {},
   "outputs": [
    {
     "name": "stdout",
     "output_type": "stream",
     "text": [
      "ABONADO                  int64\n",
      "TIPO                    object\n",
      "DNI                      int64\n",
      "DEUDA                  float64\n",
      "2022-03-07 00:00:00    float64\n",
      "2022-03-08 00:00:00    float64\n",
      "2022-03-09 00:00:00    float64\n",
      "2022-03-10 00:00:00    float64\n",
      "2022-03-11 00:00:00    float64\n",
      "2022-03-12 00:00:00    float64\n",
      "2022-03-13 00:00:00    float64\n",
      "2022-03-14 00:00:00    float64\n",
      "2022-03-15 00:00:00    float64\n",
      "2022-03-16 00:00:00    float64\n",
      "2022-03-17 00:00:00    float64\n",
      "2022-03-18 00:00:00    float64\n",
      "2022-03-19 00:00:00    float64\n",
      "2022-03-20 00:00:00    float64\n",
      "2022-03-21 00:00:00    float64\n",
      "2022-03-22 00:00:00    float64\n",
      "2022-03-23 00:00:00    float64\n",
      "2022-03-24 00:00:00    float64\n",
      "2022-03-25 00:00:00    float64\n",
      "2022-03-26 00:00:00    float64\n",
      "2022-03-27 00:00:00    float64\n",
      "2022-03-28 00:00:00    float64\n",
      "2022-03-29 00:00:00    float64\n",
      "2022-03-30 00:00:00    float64\n",
      "2022-03-31 00:00:00    float64\n",
      "SALDO                  float64\n",
      "dtype: object\n",
      "Archivo  'CredNowLoanCargar' creado correctamente\n"
     ]
    }
   ],
   "source": [
    "import pandas as pd\n",
    "import numpy as np \n",
    "import os\n",
    "\n",
    "def antinaEspecialParsearFechas(archivo_actual, archivo_parseado):\n",
    "    #Defino parametros de la función--------------------------------------------------------------\n",
    "    archivoLectura1 = archivo_actual\n",
    "    escrituraArchivo1 = archivo_parseado\n",
    "\n",
    "    \n",
    "    #Realizo lectura de archivos ------------------------------------------------------------------\n",
    "    df = pd.read_excel(archivoLectura1, parse_dates=True)\n",
    "\n",
    "    print(df.dtypes)\n",
    "\n",
    "    try:\n",
    "        df.to_excel(escrituraArchivo1, index=False)\n",
    "        print(\"Archivo  'CredNowLoanCargar' creado correctamente\")\n",
    "    except:\n",
    "        print(\"Error al crear el archivo 'CredNowLoanCargar'\")\n",
    "\n",
    "\n",
    "    #Dropeo valores nan en DataFrame(df)--thresh evalua cuantas filas tienen que estar vacias, y despues las borra--------------------------------------------------\n",
    "    #df = df.dropna(thresh=4)\n",
    "\n",
    "antinaEspecialParsearFechas('Archivos/1-076-AntinaEspecial_15-03-2022.xlsx', 'Archivos/generadosAntinaEspecial/test123.xlsx')"
   ]
  }
 ],
 "metadata": {
  "interpreter": {
   "hash": "69d7dc2ee0b81ab4f861a31d06ad054d94a51f789c73849a44b0c9efabc6b020"
  },
  "kernelspec": {
   "display_name": "Python 3.10.3 64-bit",
   "language": "python",
   "name": "python3"
  },
  "language_info": {
   "codemirror_mode": {
    "name": "ipython",
    "version": 3
   },
   "file_extension": ".py",
   "mimetype": "text/x-python",
   "name": "python",
   "nbconvert_exporter": "python",
   "pygments_lexer": "ipython3",
   "version": "3.10.3"
  },
  "orig_nbformat": 4
 },
 "nbformat": 4,
 "nbformat_minor": 2
}
