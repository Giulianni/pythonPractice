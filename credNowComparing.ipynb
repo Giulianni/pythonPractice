{
 "cells": [
  {
   "cell_type": "code",
   "execution_count": 1,
   "metadata": {},
   "outputs": [],
   "source": [
    "import numpy as np \n",
    "import pandas as pd\n",
    "import os\n",
    "import glob"
   ]
  },
  {
   "cell_type": "code",
   "execution_count": 2,
   "metadata": {},
   "outputs": [],
   "source": [
    "# Primer comparación --------------------------------------------------------\n",
    "df1=pd.read_excel('Generados/CredNowLoanCargar2.xlsx')\n",
    "df2=pd.read_excel('Generados/CredNowLoanCargar3.xlsx')\n",
    "\n",
    "df3 = pd.merge(df1, df2, how='outer', indicator='Exist')\n",
    "df3 = df3.loc[df3['Exist'] != 'both']\n",
    "\n",
    "df3.drop('Exist', inplace=True, axis=1)\n",
    "\n",
    "#Escribis un tercer archivo solamente con la información nueva ---------------------------------------\n",
    "df3.to_excel('Generados/credNowLoanCargarfiltrado2.xlsx', index=False)\n",
    "\n",
    "# Agregas el tercer archivo para hacer la comparación con el generado anteriormente\n",
    "# df3=pd.read_excel('Generados/EdelapLoanCargarfiltrado1.xlsx')\n",
    "# df4 = pd.read_excel('Generados/CredNowLoanCargar3.xlsx')\n",
    "\n",
    "# # Filtras al archivo nuevo Final\n",
    "# df5 = pd.merge(df3, df4, how='outer', indicator='Exist')\n",
    "# df5 = df5.loc[df5['Exist'] != 'both']\n",
    "\n",
    "# df5.to_excel('Generados/EdelapLoanCargarfiltradoFinal.xlsx', index=False)\n",
    "#pd.DataFrame(df3) \n"
   ]
  },
  {
   "cell_type": "code",
   "execution_count": 3,
   "metadata": {},
   "outputs": [
    {
     "name": "stdout",
     "output_type": "stream",
     "text": [
      "    DOCUMENTO  NUMEROCONVENIO  NUMEROOPERACION  COMPANIA   FECHAPAGO  \\\n",
      "12   13423299             NaN              NaN       100  17/02/2022   \n",
      "13   30993395             NaN              NaN       100  17/02/2022   \n",
      "14   39945963             NaN              NaN       100  21/02/2022   \n",
      "\n",
      "    IMPORTECONSOLIDADO  IMPORTECAPITAL  IMPORTEHONORARIOS  \\\n",
      "12             22784.0             NaN                NaN   \n",
      "13             10000.0             NaN                NaN   \n",
      "14             59000.0             NaN                NaN   \n",
      "\n",
      "    IMPORTECOMISIONCANALPAGO  OBSERVACION  CANALPAGO  NUMERORECIBO  \n",
      "12                       NaN          NaN        NaN            13  \n",
      "13                       NaN          NaN        NaN            14  \n",
      "14                       NaN          NaN        NaN            15  \n"
     ]
    }
   ],
   "source": [
    "print(df3)\n"
   ]
  }
 ],
 "metadata": {
  "interpreter": {
   "hash": "df59b04e9978eb50557051abc32c5ae29d7f79906771ab2cd828a013e4cdf466"
  },
  "kernelspec": {
   "display_name": "Python 3.10.2 64-bit",
   "language": "python",
   "name": "python3"
  },
  "language_info": {
   "codemirror_mode": {
    "name": "ipython",
    "version": 3
   },
   "file_extension": ".py",
   "mimetype": "text/x-python",
   "name": "python",
   "nbconvert_exporter": "python",
   "pygments_lexer": "ipython3",
   "version": "3.10.2"
  },
  "orig_nbformat": 4
 },
 "nbformat": 4,
 "nbformat_minor": 2
}
